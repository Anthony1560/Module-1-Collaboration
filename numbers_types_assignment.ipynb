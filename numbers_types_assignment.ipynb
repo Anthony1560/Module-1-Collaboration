{
 "cells": [
  {
   "cell_type": "code",
   "execution_count": 15,
   "id": "af021d1b-a5e4-4952-bbee-7148b665a6d6",
   "metadata": {},
   "outputs": [
    {
     "data": {
      "text/plain": [
       "3600"
      ]
     },
     "execution_count": 15,
     "metadata": {},
     "output_type": "execute_result"
    }
   ],
   "source": [
    "seconds_in_minute = 60\n",
    "minutes_in_hour = 60\n",
    "seconds_per_hour = seconds_in_minute * minutes_in_hour\n",
    "seconds_per_hour"
   ]
  },
  {
   "cell_type": "code",
   "execution_count": 17,
   "id": "150f76db-b083-4b6c-a116-9fddadf2c604",
   "metadata": {},
   "outputs": [],
   "source": [
    "seconds_per_hour = 3600"
   ]
  },
  {
   "cell_type": "code",
   "execution_count": 19,
   "id": "60a54e7d-b628-4fb7-a615-cd76396e7de2",
   "metadata": {},
   "outputs": [
    {
     "data": {
      "text/plain": [
       "86400"
      ]
     },
     "execution_count": 19,
     "metadata": {},
     "output_type": "execute_result"
    }
   ],
   "source": [
    "hours_in_day = 24\n",
    "seconds_per_day = seconds_per_hour * hours_in_day\n",
    "seconds_per_day"
   ]
  },
  {
   "cell_type": "code",
   "execution_count": 21,
   "id": "bf97d452-1b9e-403a-bcc1-f78edf6a1bdb",
   "metadata": {},
   "outputs": [],
   "source": [
    "seconds_per_day = seconds_per_hour * hours_in_day"
   ]
  },
  {
   "cell_type": "code",
   "execution_count": 24,
   "id": "a20ecf3c-8d1e-4782-8a55-ab1ea81b3e04",
   "metadata": {},
   "outputs": [
    {
     "data": {
      "text/plain": [
       "24.0"
      ]
     },
     "execution_count": 24,
     "metadata": {},
     "output_type": "execute_result"
    }
   ],
   "source": [
    "floating_point = seconds_per_day / seconds_per_hour\n",
    "floating_point"
   ]
  },
  {
   "cell_type": "code",
   "execution_count": 26,
   "id": "3414321c-1d7d-4123-a2cb-6afb4cfc6f83",
   "metadata": {},
   "outputs": [
    {
     "data": {
      "text/plain": [
       "24"
      ]
     },
     "execution_count": 26,
     "metadata": {},
     "output_type": "execute_result"
    }
   ],
   "source": [
    "integer_divison = seconds_per_day // seconds_per_hour\n",
    "integer_divison"
   ]
  },
  {
   "cell_type": "code",
   "execution_count": null,
   "id": "726500cb-6e65-4cef-90b8-c425053fad1e",
   "metadata": {},
   "outputs": [],
   "source": []
  }
 ],
 "metadata": {
  "kernelspec": {
   "display_name": "Python 3 (ipykernel)",
   "language": "python",
   "name": "python3"
  },
  "language_info": {
   "codemirror_mode": {
    "name": "ipython",
    "version": 3
   },
   "file_extension": ".py",
   "mimetype": "text/x-python",
   "name": "python",
   "nbconvert_exporter": "python",
   "pygments_lexer": "ipython3",
   "version": "3.12.4"
  }
 },
 "nbformat": 4,
 "nbformat_minor": 5
}
